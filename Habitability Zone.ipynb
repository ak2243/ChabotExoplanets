{
 "cells": [
  {
   "cell_type": "markdown",
   "id": "residential-street",
   "metadata": {},
   "source": [
    "# The Morris Method for Calculating the Habitability Zone"
   ]
  },
  {
   "cell_type": "markdown",
   "id": "historical-pixel",
   "metadata": {},
   "source": [
    "# A few things we could test (unrelated):\n",
    "\n",
    "## Water\n",
    "https://pubmed.ncbi.nlm.nih.gov/11539468/\n",
    "\n",
    "\"The availability of liquid water is the most important factor that makes a planet habitable, because water is a very effective polar molecule and hence an excellent solvent and facilitator for the complex chemistry of life. Its presence presupposes a planet with a significant mass that guarantees the presence of a substantial atmosphere, and a reasonable spinning rate to avoid overheating.\"\n",
    "\n",
    "Obviously, water is necessary for humans. Humans couldn't survive for very long without a sustainable water supply. Thus, for an exoplanet to be habitable, we need to know that water is present, or at least know that the presence of water is reasonably plausible.\n",
    "\n",
    "\n",
    "## Distance from the star\n",
    "\n",
    "A habitable planet would need to be in the goldilocks zone. This would mean that it needs to be an appropriate distance from the star its orbits (the exact distance from the star would depend on the size of the star itself).\n",
    "\n",
    "\n",
    "## Oribtal Eccentricity\n",
    "\n",
    "The regularity of the oribital is fairly necessary for human habitation of an exoplanet.\n",
    "\n",
    "\n",
    "*Need more research on the last two headings.*"
   ]
  },
  {
   "cell_type": "markdown",
   "id": "liked-maker",
   "metadata": {},
   "source": [
    "# The Morris Method for Calculating the Habitable Zone:"
   ]
  },
  {
   "cell_type": "code",
   "execution_count": 9,
   "id": "experienced-istanbul",
   "metadata": {},
   "outputs": [],
   "source": [
    "import pandas as pd\n",
    "import matplotlib.pyplot as plt\n",
    "import numpy as np\n",
    "import math"
   ]
  },
  {
   "cell_type": "code",
   "execution_count": 2,
   "id": "professional-question",
   "metadata": {},
   "outputs": [
    {
     "name": "stdout",
     "output_type": "stream",
     "text": [
      "Index(['rowid', 'pl_hostname', 'pl_letter', 'pl_name', 'pl_discmethod',\n",
      "       'pl_pnum', 'pl_orbper', 'pl_orbpererr1', 'pl_orbpererr2',\n",
      "       'pl_orbperlim',\n",
      "       ...\n",
      "       'st_bmy', 'st_bmyerr', 'st_bmylim', 'st_m1', 'st_m1err', 'st_m1lim',\n",
      "       'st_c1', 'st_c1err', 'st_c1lim', 'st_colorn'],\n",
      "      dtype='object', length=355)\n"
     ]
    }
   ],
   "source": [
    "df = pd.read_csv(\"Exoplanets.csv\")\n",
    "print(df.columns)"
   ]
  },
  {
   "cell_type": "code",
   "execution_count": 3,
   "id": "comprehensive-czech",
   "metadata": {},
   "outputs": [
    {
     "data": {
      "text/html": [
       "<div>\n",
       "<style scoped>\n",
       "    .dataframe tbody tr th:only-of-type {\n",
       "        vertical-align: middle;\n",
       "    }\n",
       "\n",
       "    .dataframe tbody tr th {\n",
       "        vertical-align: top;\n",
       "    }\n",
       "\n",
       "    .dataframe thead th {\n",
       "        text-align: right;\n",
       "    }\n",
       "</style>\n",
       "<table border=\"1\" class=\"dataframe\">\n",
       "  <thead>\n",
       "    <tr style=\"text-align: right;\">\n",
       "      <th></th>\n",
       "      <th>rowid</th>\n",
       "      <th>pl_hostname</th>\n",
       "      <th>pl_letter</th>\n",
       "      <th>pl_name</th>\n",
       "      <th>pl_discmethod</th>\n",
       "      <th>pl_pnum</th>\n",
       "      <th>pl_orbper</th>\n",
       "      <th>pl_orbpererr1</th>\n",
       "      <th>pl_orbpererr2</th>\n",
       "      <th>pl_orbperlim</th>\n",
       "      <th>...</th>\n",
       "      <th>st_bmy</th>\n",
       "      <th>st_bmyerr</th>\n",
       "      <th>st_bmylim</th>\n",
       "      <th>st_m1</th>\n",
       "      <th>st_m1err</th>\n",
       "      <th>st_m1lim</th>\n",
       "      <th>st_c1</th>\n",
       "      <th>st_c1err</th>\n",
       "      <th>st_c1lim</th>\n",
       "      <th>st_colorn</th>\n",
       "    </tr>\n",
       "  </thead>\n",
       "  <tbody>\n",
       "    <tr>\n",
       "      <th>0</th>\n",
       "      <td>1</td>\n",
       "      <td>11 Com</td>\n",
       "      <td>b</td>\n",
       "      <td>11 Com b</td>\n",
       "      <td>Radial Velocity</td>\n",
       "      <td>1</td>\n",
       "      <td>326.03000</td>\n",
       "      <td>0.32</td>\n",
       "      <td>-0.32</td>\n",
       "      <td>0.0</td>\n",
       "      <td>...</td>\n",
       "      <td>NaN</td>\n",
       "      <td>NaN</td>\n",
       "      <td>NaN</td>\n",
       "      <td>NaN</td>\n",
       "      <td>NaN</td>\n",
       "      <td>NaN</td>\n",
       "      <td>NaN</td>\n",
       "      <td>NaN</td>\n",
       "      <td>NaN</td>\n",
       "      <td>7</td>\n",
       "    </tr>\n",
       "    <tr>\n",
       "      <th>1</th>\n",
       "      <td>2</td>\n",
       "      <td>11 UMi</td>\n",
       "      <td>b</td>\n",
       "      <td>11 UMi b</td>\n",
       "      <td>Radial Velocity</td>\n",
       "      <td>1</td>\n",
       "      <td>516.21997</td>\n",
       "      <td>3.20</td>\n",
       "      <td>-3.20</td>\n",
       "      <td>0.0</td>\n",
       "      <td>...</td>\n",
       "      <td>NaN</td>\n",
       "      <td>NaN</td>\n",
       "      <td>NaN</td>\n",
       "      <td>NaN</td>\n",
       "      <td>NaN</td>\n",
       "      <td>NaN</td>\n",
       "      <td>NaN</td>\n",
       "      <td>NaN</td>\n",
       "      <td>NaN</td>\n",
       "      <td>5</td>\n",
       "    </tr>\n",
       "    <tr>\n",
       "      <th>2</th>\n",
       "      <td>3</td>\n",
       "      <td>14 And</td>\n",
       "      <td>b</td>\n",
       "      <td>14 And b</td>\n",
       "      <td>Radial Velocity</td>\n",
       "      <td>1</td>\n",
       "      <td>185.84000</td>\n",
       "      <td>0.23</td>\n",
       "      <td>-0.23</td>\n",
       "      <td>0.0</td>\n",
       "      <td>...</td>\n",
       "      <td>NaN</td>\n",
       "      <td>NaN</td>\n",
       "      <td>NaN</td>\n",
       "      <td>NaN</td>\n",
       "      <td>NaN</td>\n",
       "      <td>NaN</td>\n",
       "      <td>NaN</td>\n",
       "      <td>NaN</td>\n",
       "      <td>NaN</td>\n",
       "      <td>7</td>\n",
       "    </tr>\n",
       "    <tr>\n",
       "      <th>3</th>\n",
       "      <td>4</td>\n",
       "      <td>14 Her</td>\n",
       "      <td>b</td>\n",
       "      <td>14 Her b</td>\n",
       "      <td>Radial Velocity</td>\n",
       "      <td>1</td>\n",
       "      <td>1773.40002</td>\n",
       "      <td>2.50</td>\n",
       "      <td>-2.50</td>\n",
       "      <td>0.0</td>\n",
       "      <td>...</td>\n",
       "      <td>0.537</td>\n",
       "      <td>0.001</td>\n",
       "      <td>0.0</td>\n",
       "      <td>0.366</td>\n",
       "      <td>0.002</td>\n",
       "      <td>0.0</td>\n",
       "      <td>0.438</td>\n",
       "      <td>0.006</td>\n",
       "      <td>0.0</td>\n",
       "      <td>9</td>\n",
       "    </tr>\n",
       "    <tr>\n",
       "      <th>4</th>\n",
       "      <td>5</td>\n",
       "      <td>16 Cyg B</td>\n",
       "      <td>b</td>\n",
       "      <td>16 Cyg B b</td>\n",
       "      <td>Radial Velocity</td>\n",
       "      <td>1</td>\n",
       "      <td>798.50000</td>\n",
       "      <td>1.00</td>\n",
       "      <td>-1.00</td>\n",
       "      <td>0.0</td>\n",
       "      <td>...</td>\n",
       "      <td>0.418</td>\n",
       "      <td>0.003</td>\n",
       "      <td>0.0</td>\n",
       "      <td>0.222</td>\n",
       "      <td>0.003</td>\n",
       "      <td>0.0</td>\n",
       "      <td>0.351</td>\n",
       "      <td>0.003</td>\n",
       "      <td>0.0</td>\n",
       "      <td>17</td>\n",
       "    </tr>\n",
       "  </tbody>\n",
       "</table>\n",
       "<p>5 rows × 355 columns</p>\n",
       "</div>"
      ],
      "text/plain": [
       "   rowid pl_hostname pl_letter     pl_name    pl_discmethod  pl_pnum  \\\n",
       "0      1      11 Com         b    11 Com b  Radial Velocity        1   \n",
       "1      2      11 UMi         b    11 UMi b  Radial Velocity        1   \n",
       "2      3      14 And         b    14 And b  Radial Velocity        1   \n",
       "3      4      14 Her         b    14 Her b  Radial Velocity        1   \n",
       "4      5    16 Cyg B         b  16 Cyg B b  Radial Velocity        1   \n",
       "\n",
       "    pl_orbper  pl_orbpererr1  pl_orbpererr2  pl_orbperlim  ...  st_bmy  \\\n",
       "0   326.03000           0.32          -0.32           0.0  ...     NaN   \n",
       "1   516.21997           3.20          -3.20           0.0  ...     NaN   \n",
       "2   185.84000           0.23          -0.23           0.0  ...     NaN   \n",
       "3  1773.40002           2.50          -2.50           0.0  ...   0.537   \n",
       "4   798.50000           1.00          -1.00           0.0  ...   0.418   \n",
       "\n",
       "   st_bmyerr  st_bmylim  st_m1  st_m1err  st_m1lim  st_c1  st_c1err  st_c1lim  \\\n",
       "0        NaN        NaN    NaN       NaN       NaN    NaN       NaN       NaN   \n",
       "1        NaN        NaN    NaN       NaN       NaN    NaN       NaN       NaN   \n",
       "2        NaN        NaN    NaN       NaN       NaN    NaN       NaN       NaN   \n",
       "3      0.001        0.0  0.366     0.002       0.0  0.438     0.006       0.0   \n",
       "4      0.003        0.0  0.222     0.003       0.0  0.351     0.003       0.0   \n",
       "\n",
       "   st_colorn  \n",
       "0          7  \n",
       "1          5  \n",
       "2          7  \n",
       "3          9  \n",
       "4         17  \n",
       "\n",
       "[5 rows x 355 columns]"
      ]
     },
     "execution_count": 3,
     "metadata": {},
     "output_type": "execute_result"
    }
   ],
   "source": [
    "df.head()"
   ]
  },
  {
   "cell_type": "code",
   "execution_count": 4,
   "id": "damaged-foster",
   "metadata": {},
   "outputs": [
    {
     "name": "stdout",
     "output_type": "stream",
     "text": [
      "                      pl_hostname                        pl_name  pl_orbsmax  \\\n",
      "13        2MASS J12073346-3932539      2MASS J12073346-3932539 b    46.00000   \n",
      "3610                    SWEEPS-11                    SWEEPS-11 b     0.03000   \n",
      "3620                   TRAPPIST-1                   TRAPPIST-1 h         NaN   \n",
      "3619                   TRAPPIST-1                   TRAPPIST-1 g     0.04510   \n",
      "3618                   TRAPPIST-1                   TRAPPIST-1 f     0.03710   \n",
      "...                           ...                            ...         ...   \n",
      "3782                      WASP-97                      WASP-97 b         NaN   \n",
      "3783                      WASP-98                      WASP-98 b     0.03762   \n",
      "3784                      WASP-99                      WASP-99 b         NaN   \n",
      "3785                  WD 0806-661                  WD 0806-661 b  2500.00000   \n",
      "3786  WISEP J121756.91+162640.2 A  WISEP J121756.91+162640.2 A b     8.00000   \n",
      "\n",
      "      st_dist  st_optmag st_spstr  \n",
      "13      52.40      20.15       M8  \n",
      "3610  8500.00      19.83      NaN  \n",
      "3620    12.10      18.80      NaN  \n",
      "3619    12.10      18.80      NaN  \n",
      "3618    12.10      18.80      NaN  \n",
      "...       ...        ...      ...  \n",
      "3782   151.73        NaN       G5  \n",
      "3783   284.05        NaN       G7  \n",
      "3784   159.39        NaN       F8  \n",
      "3785    19.20        NaN      NaN  \n",
      "3786    10.10        NaN     T8.5  \n",
      "\n",
      "[3838 rows x 6 columns]\n"
     ]
    }
   ],
   "source": [
    "# Code that Aditya gave me 2021-04-17\n",
    "\n",
    "df=df.sort_values(by=[\"st_optmag\"],ascending=False)\n",
    "print(df[[\"pl_hostname\",\"pl_name\",\"pl_orbsmax\",\"st_dist\",\"st_optmag\",\"st_spstr\"]])\n",
    "\n",
    "# pl_hostname - star name\n",
    "# pl_name - exoplanet name\n",
    "# st_dist - distance to star from earth (parsecs)\n",
    "# st_optmag - apparent magnitude (m_v in the Morris Method)\n",
    "# st_spstr - spectral class"
   ]
  },
  {
   "cell_type": "markdown",
   "id": "answering-farming",
   "metadata": {},
   "source": [
    "### Morris Method Calculation for 2MASS (13)"
   ]
  },
  {
   "cell_type": "code",
   "execution_count": 5,
   "id": "prepared-fundamental",
   "metadata": {
    "scrolled": true
   },
   "outputs": [
    {
     "name": "stdout",
     "output_type": "stream",
     "text": [
      "16.553343565081363\n"
     ]
    }
   ],
   "source": [
    "# Stage 1: Estimate the host star’s absolute luminosity based on the star’s apparent visual magnitude\n",
    "# Doing hardcoded for 2MASS J12073346-3932539\n",
    "opticalMagnitude = 20.15\n",
    "distanceInParsecs = 52.40\n",
    "# Mv = mv – 5 log(d/10)\n",
    "absoluteMagnitude = opticalMagnitude - (5 * math.log10(distanceInParsecs/10))\n",
    "print(absoluteMagnitude)"
   ]
  },
  {
   "cell_type": "code",
   "execution_count": 6,
   "id": "seasonal-productivity",
   "metadata": {},
   "outputs": [
    {
     "name": "stdout",
     "output_type": "stream",
     "text": [
      "14.553343565081363\n"
     ]
    }
   ],
   "source": [
    "# Second Step (stage 1)  – Calculate bolometric magnitude of the host star.\n",
    "#  Mbol = Mv + BC (BC = -2 for M type stars)\n",
    "bolometricCorrectionConstant = -2.0\n",
    "bolometricMagnitude = absoluteMagnitude + bolometricCorrectionConstant\n",
    "print(bolometricMagnitude)"
   ]
  },
  {
   "cell_type": "code",
   "execution_count": 7,
   "id": "cloudy-novelty",
   "metadata": {},
   "outputs": [
    {
     "name": "stdout",
     "output_type": "stream",
     "text": [
      "39.333374260325456\n"
     ]
    }
   ],
   "source": [
    "# Third Step (stage 1) – Calculate the absolute luminosity of the host star\n",
    "# 4.72 - bolometric constant for the sun\n",
    "absoluteLuminosityInTermsOfSun = 10 * ((bolometricMagnitude - 4.72)/2.5)\n",
    "# Fun fact: the SI unit for luminosity is candella\n",
    "print(absoluteLuminosityInTermsOfSun)"
   ]
  },
  {
   "cell_type": "code",
   "execution_count": 8,
   "id": "occupied-picnic",
   "metadata": {},
   "outputs": [
    {
     "name": "stdout",
     "output_type": "stream",
     "text": [
      "Inner Radius: 5.9797669656878965\n",
      "Outer Radius: 8.614749775746668\n"
     ]
    }
   ],
   "source": [
    "# Stage 2: Approximate the radii of the host star’s habitable zone boundaries\n",
    "innerRadius = math.sqrt(absoluteLuminosityInTermsOfSun/1.1)\n",
    "outerRadius = math.sqrt(absoluteLuminosityInTermsOfSun/0.53)\n",
    "print(\"Inner Radius: \" + str(innerRadius))\n",
    "print(\"Outer Radius: \" + str(outerRadius))\n",
    "# Distance to star (pl_orbsmax) for this star is around 46, so not in the habitable zone"
   ]
  },
  {
   "cell_type": "markdown",
   "id": "digital-upper",
   "metadata": {},
   "source": [
    "### Morris Method Calculation for Trappist-1:"
   ]
  },
  {
   "cell_type": "code",
   "execution_count": 10,
   "id": "liable-drunk",
   "metadata": {},
   "outputs": [
    {
     "name": "stdout",
     "output_type": "stream",
     "text": [
      "18.38607314841775\n"
     ]
    }
   ],
   "source": [
    "# Stage 1: Estimate the host star’s absolute luminosity based on the star’s apparent visual magnitude\n",
    "opticalMagnitude = 18.80\n",
    "distanceInParsecs = 12.10\n",
    "# Mv = mv – 5 log(d/10)\n",
    "# NOTE: log(a) + b = log(a) + log(10^b) = log(ab^10)\n",
    "# This means that to increase a log by a factor of b, you need to multiply inside of the log by b^10\n",
    "absoluteMagnitude = opticalMagnitude - (5 * math.log10(distanceInParsecs/10))\n",
    "print(absoluteMagnitude)"
   ]
  },
  {
   "cell_type": "code",
   "execution_count": 11,
   "id": "vocal-enzyme",
   "metadata": {},
   "outputs": [
    {
     "name": "stdout",
     "output_type": "stream",
     "text": [
      "16.38607314841775\n"
     ]
    }
   ],
   "source": [
    "# Second Step (stage 1)  – Calculate bolometric magnitude of the host star.\n",
    "#  Mbol = Mv + BC (BC = -2 for M type stars)\n",
    "bolometricCorrectionConstant = -2.0\n",
    "bolometricMagnitude = absoluteMagnitude + bolometricCorrectionConstant\n",
    "print(bolometricMagnitude)"
   ]
  },
  {
   "cell_type": "code",
   "execution_count": 12,
   "id": "german-terror",
   "metadata": {},
   "outputs": [
    {
     "name": "stdout",
     "output_type": "stream",
     "text": [
      "46.66429259367101\n"
     ]
    }
   ],
   "source": [
    "# Third Step (stage 1) – Calculate the absolute luminosity of the host star\n",
    "# 4.72 - bolometric constant for the sun\n",
    "absoluteLuminosityInTermsOfSun = 10 * ((bolometricMagnitude - 4.72)/2.5)\n",
    "# Fun fact: the SI unit for luminosity is candella\n",
    "print(absoluteLuminosityInTermsOfSun)"
   ]
  },
  {
   "cell_type": "code",
   "execution_count": 14,
   "id": "absolute-playlist",
   "metadata": {},
   "outputs": [
    {
     "name": "stdout",
     "output_type": "stream",
     "text": [
      "Inner Radius: 6.513223792874351\n",
      "Outer Radius: 9.383274219716597\n"
     ]
    }
   ],
   "source": [
    "# Stage 2: Approximate the radii of the host star’s habitable zone boundaries\n",
    "innerRadius = math.sqrt(absoluteLuminosityInTermsOfSun/1.1)\n",
    "outerRadius = math.sqrt(absoluteLuminosityInTermsOfSun/0.53)\n",
    "print(\"Inner Radius: \" + str(innerRadius))\n",
    "print(\"Outer Radius: \" + str(outerRadius))\n",
    "# Distance to star (pl_orbsmax) for this star is around 0.04510, so not in the habitable zone"
   ]
  },
  {
   "cell_type": "markdown",
   "id": "blessed-strap",
   "metadata": {},
   "source": [
    "### Automation of the Morris Method"
   ]
  },
  {
   "cell_type": "code",
   "execution_count": 16,
   "id": "deluxe-gambling",
   "metadata": {},
   "outputs": [
    {
     "name": "stdout",
     "output_type": "stream",
     "text": [
      "                  pl_hostname                    pl_name  pl_orbsmax  st_dist  \\\n",
      "13    2MASS J12073346-3932539  2MASS J12073346-3932539 b    46.00000    52.40   \n",
      "3588                   POTS-1                   POTS-1 b     0.03734  1200.00   \n",
      "3637  VHS J125601.92-125723.9  VHS J125601.92-125723.9 b   102.00000    12.70   \n",
      "2788                Kepler-45                Kepler-45 b     0.03000   333.00   \n",
      "2496                Kepler-32                Kepler-32 b     0.05000   303.00   \n",
      "...                       ...                        ...         ...      ...   \n",
      "3804                  alf Ari                  alf Ari b     1.20000    20.21   \n",
      "3812                gam 1 Leo                gam 1 Leo b     1.19000    38.52   \n",
      "103                 Fomalhaut                Fomalhaut b   160.00000     7.70   \n",
      "673                  HD 62509                 HD 62509 b     1.64000    10.34   \n",
      "3805                  alf Tau                  alf Tau b     1.46000    20.43   \n",
      "\n",
      "      st_optmag        st_spstr  \n",
      "13       20.150              M8  \n",
      "3588     17.940            K5 V  \n",
      "3637     17.759            M7.5  \n",
      "2788     16.880               M  \n",
      "2496     16.452            M1 V  \n",
      "...         ...             ...  \n",
      "3804      2.000         K1 IIIb  \n",
      "3812      1.980  K1 IIIb Fe-0.5  \n",
      "103       1.160            A3 V  \n",
      "673       1.140          K0 III  \n",
      "3805      0.850          K5 III  \n",
      "\n",
      "[1012 rows x 6 columns]\n"
     ]
    }
   ],
   "source": [
    "# Need variables for stellar distance, optical magnitude, and spectral type\n",
    "# We also need to drop na's for any of these (I think)\n",
    "df = df[df['st_optmag'].notna()]\n",
    "df = df[df['st_dist'].notna()]\n",
    "df = df[df['st_spstr'].notna()]\n",
    "df = df[df['pl_orbsmax'].notna()]\n",
    "df = df[df[\"pl_hostname\"].notna()]\n",
    "df = df[df[\"pl_name\"].notna()]\n",
    "print(df[[\"pl_hostname\",\"pl_name\",\"pl_orbsmax\",\"st_dist\",\"st_optmag\",\"st_spstr\"]])"
   ]
  },
  {
   "cell_type": "code",
   "execution_count": 51,
   "id": "outside-windows",
   "metadata": {},
   "outputs": [
    {
     "name": "stdout",
     "output_type": "stream",
     "text": [
      "Found 5 habitable planets:\n",
      "\t GJ 676 A c\n",
      "\t HD 4203 c\n",
      "\t HD 150706 b\n",
      "\t HD 142 c\n",
      "\t bet Pic b\n"
     ]
    }
   ],
   "source": [
    "import re\n",
    "# now, we can do the calculation\n",
    "habitableRows = []\n",
    "for index, row in df.iterrows():\n",
    "    opticalMagnitude = row['st_optmag']\n",
    "    distanceInParsecs = row['st_dist']\n",
    "    # Mv = mv - 5log(d/10)\n",
    "    # NOTE: log(a) + b = log(a) + log(10^b) = log(ab^10)\n",
    "    # This means that to increase a log by a factor of b, you need to multiply inside of the log by b^10\n",
    "    absoluteMag = opticalMagnitude - (5 * math.log10(distanceInParsecs/10))\n",
    "    \n",
    "    bolometricConstantDict = {}\n",
    "    bolometricConstantDict[\"B\"] = -2.0\n",
    "    bolometricConstantDict[\"A\"] = -3.0\n",
    "    bolometricConstantDict[\"F\"] = -0.15\n",
    "    bolometricConstantDict[\"G\"] = -0.4\n",
    "    bolometricConstantDict[\"K\"] = -0.8\n",
    "    bolometricConstantDict[\"M\"] = -2.0\n",
    "    \n",
    "    spectralType = str((re.findall(\"[A-Z]+?\", spectralType)[0]))\n",
    "    try:\n",
    "        bolometricCorrectionConst = bolometricConstantDict[spectralType[0]]\n",
    "        #[A-Z]\\S+\n",
    "        x = re.search(\"[A-Z]\\S+\", spectralType)\n",
    "        \n",
    "    except KeyError:\n",
    "        print(\"Err \" + str(spectralType))\n",
    "    bolometricMagnitude = absoluteMagnitude + bolometricCorrectionConstant\n",
    "    \n",
    "    # Third Step (stage 1) – Calculate the absolute luminosity of the host star\n",
    "    # 4.72 - bolometric constant for the sun\n",
    "    absoluteLuminosityInTermsOfSun = 10 * ((bolometricMagnitude - 4.72)/2.5)\n",
    "    \n",
    "    # Stage 2: Approximate the radii of the host star’s habitable zone boundaries\n",
    "    innerRadius = math.sqrt(absoluteLuminosityInTermsOfSun/1.1)\n",
    "    outerRadius = math.sqrt(absoluteLuminosityInTermsOfSun/0.53)\n",
    "\n",
    "    if ((row['pl_orbsmax'] <= outerRadius) & (row['pl_orbsmax'] >= innerRadius)):\n",
    "        habitableRows.append(row)\n",
    "print(\"Found\", len(habitableRows), \"habitable planets:\")\n",
    "for row in habitableRows:\n",
    "    print('\\t', row['pl_name'])"
   ]
  },
  {
   "cell_type": "code",
   "execution_count": null,
   "id": "parliamentary-portable",
   "metadata": {},
   "outputs": [],
   "source": []
  },
  {
   "cell_type": "code",
   "execution_count": null,
   "id": "little-wallet",
   "metadata": {},
   "outputs": [],
   "source": []
  }
 ],
 "metadata": {
  "kernelspec": {
   "display_name": "Python 3",
   "language": "python",
   "name": "python3"
  },
  "language_info": {
   "codemirror_mode": {
    "name": "ipython",
    "version": 3
   },
   "file_extension": ".py",
   "mimetype": "text/x-python",
   "name": "python",
   "nbconvert_exporter": "python",
   "pygments_lexer": "ipython3",
   "version": "3.8.5"
  }
 },
 "nbformat": 4,
 "nbformat_minor": 5
}
