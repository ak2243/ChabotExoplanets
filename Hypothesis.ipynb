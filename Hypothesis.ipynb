{
 "cells": [
  {
   "cell_type": "code",
   "execution_count": 3,
   "id": "honest-basketball",
   "metadata": {},
   "outputs": [],
   "source": [
    "import pandas as pd\n",
    "import matplotlib.pyplot as plt\n",
    "import numpy as np"
   ]
  },
  {
   "cell_type": "code",
   "execution_count": 6,
   "id": "professional-question",
   "metadata": {},
   "outputs": [
    {
     "name": "stdout",
     "output_type": "stream",
     "text": [
      "Index(['PlanetIdentifier', 'TypeFlag', 'PlanetaryMassJpt', 'RadiusJpt',\n",
      "       'PeriodDays', 'SemiMajorAxisAU', 'Eccentricity', 'PeriastronDeg',\n",
      "       'LongitudeDeg', 'AscendingNodeDeg', 'InclinationDeg', 'SurfaceTempK',\n",
      "       'AgeGyr', 'DiscoveryMethod', 'DiscoveryYear', 'LastUpdated',\n",
      "       'RightAscension', 'Declination', 'DistFromSunParsec',\n",
      "       'HostStarMassSlrMass', 'HostStarRadiusSlrRad', 'HostStarMetallicity',\n",
      "       'HostStarTempK', 'HostStarAgeGyr', 'ListsPlanetIsOn'],\n",
      "      dtype='object')\n"
     ]
    }
   ],
   "source": [
    "df = pd.read_csv(\"oec.csv\")\n",
    "print(df.columns)"
   ]
  },
  {
   "cell_type": "markdown",
   "id": "historical-pixel",
   "metadata": {},
   "source": [
    "# Hypotheses for what could be factors in determining habitability\n",
    "\n",
    "## Water\n",
    "https://pubmed.ncbi.nlm.nih.gov/11539468/\n",
    "\n",
    "\"The availability of liquid water is the most important factor that makes a planet habitable, because water is a very effective polar molecule and hence an excellent solvent and facilitator for the complex chemistry of life. Its presence presupposes a planet with a significant mass that guarantees the presence of a substantial atmosphere, and a reasonable spinning rate to avoid overheating.\"\n",
    "\n",
    "Obviously, water is necessary for humans. Humans couldn't survive for very long without a sustainable water supply. Thus, for an exoplanet to be habitable, we need to know that water is present, or at least know that the presence of water is reasonably plausible.\n",
    "\n",
    "\n",
    "## Distance from the star\n",
    "\n",
    "A habitable planet would need to be in the goldilocks zone. This would mean that it needs to be an appropriate distance from the star its orbits (the exact distance from the star would depend on the size of the star itself).\n",
    "\n",
    "\n",
    "## Oribtal Eccentricity\n",
    "\n",
    "The regularity of the oribital is fairly necessary for human habitation of an exoplanet.\n",
    "\n",
    "\n",
    "*Need more research on the last two headings.*"
   ]
  },
  {
   "cell_type": "code",
   "execution_count": null,
   "id": "comprehensive-czech",
   "metadata": {},
   "outputs": [],
   "source": []
  }
 ],
 "metadata": {
  "kernelspec": {
   "display_name": "Python 3",
   "language": "python",
   "name": "python3"
  },
  "language_info": {
   "codemirror_mode": {
    "name": "ipython",
    "version": 3
   },
   "file_extension": ".py",
   "mimetype": "text/x-python",
   "name": "python",
   "nbconvert_exporter": "python",
   "pygments_lexer": "ipython3",
   "version": "3.8.5"
  }
 },
 "nbformat": 4,
 "nbformat_minor": 5
}
